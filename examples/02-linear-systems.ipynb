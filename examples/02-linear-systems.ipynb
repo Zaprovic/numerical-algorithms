{
 "cells": [
  {
   "cell_type": "markdown",
   "metadata": {},
   "source": [
    "# **Linear systems of equations**\n",
    "\n",
    "This notebooks shows how to implement the following methods\n",
    "- `jacobi`\n",
    "- `gseid`\n",
    "- `sor`"
   ]
  },
  {
   "cell_type": "code",
   "execution_count": 3,
   "metadata": {},
   "outputs": [],
   "source": [
    "# this is not a necessary import, I just have it here because vscode requires it\n",
    "# to run the script in the same directory as the script\n",
    "# and not the directory where the script is located\n",
    "\n",
    "import sys\n",
    "\n",
    "sys.path.append(\"..\")"
   ]
  },
  {
   "cell_type": "code",
   "execution_count": 4,
   "metadata": {},
   "outputs": [],
   "source": [
    "import numpy as np"
   ]
  },
  {
   "cell_type": "markdown",
   "metadata": {},
   "source": [
    "## **Jacobi Method for Linear Systems of Equations**\n",
    "\n",
    "The Jacobi method is an iterative technique for solving systems of linear equations of the form $Ax = b$. \n",
    "\n",
    "**How It Works**\n",
    "\n",
    "The method decomposes the coefficient matrix $A$ into its diagonal component $D$ and the remainder $R = L + U$ (lower and upper triangular parts). It then iteratively computes:\n",
    "\n",
    "$$x^{(k+1)} = D^{-1}(b - (L+U)x^{(k)})$$\n",
    "\n",
    "**Example**\n",
    "\n",
    "In the next cell, we solve a 5×5 linear system using the Jacobi method:\n",
    "- Matrix $A$ is a 5×5 coefficient matrix\n",
    "- Vector $b$ is our right-hand side\n",
    "- We start with initial guess $x_0 = [1, 2, 3, 4, 5]$\n",
    "- The relaxation parameter is set to 1.6\n",
    "\n",
    "The solution converges to the values shown in the output.\n"
   ]
  },
  {
   "cell_type": "code",
   "execution_count": null,
   "metadata": {},
   "outputs": [
    {
     "name": "stdout",
     "output_type": "stream",
     "text": [
      "[[ 1.0667]\n",
      " [-1.2533]\n",
      " [ 0.0093]\n",
      " [ 0.2492]\n",
      " [ 0.2793]]\n"
     ]
    }
   ],
   "source": [
    "from functions.linear import jacobi\n",
    "\n",
    "A = [\n",
    "     [3, -1, 0, 0, 0],\n",
    "     [-1, 5, 4, 0, 0],\n",
    "     [0, 4, 6, -2, 0],\n",
    "     [0, 0, -2, 8, 1],\n",
    "     [0, 0, 0, 1, 11],\n",
    "]\n",
    "\n",
    "b = [3,0,1,-1,3]\n",
    "\n",
    "x0 = np.array([i for i in range(1,6)])\n",
    "r,_,_ = jacobi(A, b, x0, 1.6)\n",
    "\n",
    "print(r)"
   ]
  }
 ],
 "metadata": {
  "kernelspec": {
   "display_name": ".env",
   "language": "python",
   "name": "python3"
  },
  "language_info": {
   "codemirror_mode": {
    "name": "ipython",
    "version": 3
   },
   "file_extension": ".py",
   "mimetype": "text/x-python",
   "name": "python",
   "nbconvert_exporter": "python",
   "pygments_lexer": "ipython3",
   "version": "3.12.3"
  }
 },
 "nbformat": 4,
 "nbformat_minor": 2
}
