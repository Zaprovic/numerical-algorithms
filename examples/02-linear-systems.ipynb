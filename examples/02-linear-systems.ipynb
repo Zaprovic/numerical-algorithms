{
 "cells": [
  {
   "cell_type": "markdown",
   "metadata": {},
   "source": [
    "# **Linear systems of equations**\n",
    "\n",
    "This notebooks shows how to implement the following methods\n",
    "- `jacobi`\n",
    "- `gseid`\n",
    "- `sor`"
   ]
  },
  {
   "cell_type": "code",
   "execution_count": 1,
   "metadata": {},
   "outputs": [],
   "source": [
    "# this is not a necessary import, I just have it here because vscode requires it\n",
    "# to run the script in the same directory as the script\n",
    "# and not the directory where the script is located\n",
    "\n",
    "import sys\n",
    "\n",
    "sys.path.append(\"..\")"
   ]
  },
  {
   "cell_type": "code",
   "execution_count": 2,
   "metadata": {},
   "outputs": [],
   "source": [
    "import numpy as np"
   ]
  },
  {
   "cell_type": "markdown",
   "metadata": {},
   "source": [
    "---"
   ]
  },
  {
   "cell_type": "markdown",
   "metadata": {},
   "source": [
    "## **Jacobi method**\n",
    "\n",
    "The Jacobi method is an iterative technique for solving systems of linear equations of the form $Ax = b$. \n",
    "\n",
    "**How It Works**\n",
    "\n",
    "The method decomposes the coefficient matrix $A$ into its diagonal component $D$ and the remainder $R = L + U$ (lower and upper triangular parts). It then iteratively computes:\n",
    "\n",
    "$$x^{(k+1)} = D^{-1}(b - (L+U)x^{(k)})$$\n",
    "\n",
    "**Example**\n",
    "\n",
    "In the next cell, we solve a 5×5 linear system using the Jacobi method:\n",
    "- Matrix $A$ is a 5×5 coefficient matrix\n",
    "- Vector $b$ is our right-hand side\n",
    "- We start with initial guess $x_0 = [1, 2, 3, 4, 5]$\n",
    "- The relaxation parameter is set to 1.6\n",
    "\n",
    "The solution converges to the values shown in the output.\n"
   ]
  },
  {
   "cell_type": "code",
   "execution_count": 3,
   "metadata": {},
   "outputs": [
    {
     "name": "stdout",
     "output_type": "stream",
     "text": [
      "[[ 1.0962]\n",
      " [ 0.2886]\n",
      " [-0.0866]\n",
      " [-0.1828]\n",
      " [ 0.2893]]\n"
     ]
    }
   ],
   "source": [
    "from functions.linear import jacobi\n",
    "\n",
    "A = np.array([\n",
    "     [3, -1, 0, 0, 0],\n",
    "     [-1, 5, 4, 0, 0],\n",
    "     [0, 4, 6, -2, 0],\n",
    "     [0, 0, -2, 8, 1],\n",
    "     [0, 0, 0, 1, 11],\n",
    "])\n",
    "\n",
    "b = [3,0,1,-1,3]\n",
    "\n",
    "x0 = np.array([i for i in range(1,6)])\n",
    "r,_,_ = jacobi(A, b, x0)\n",
    "\n",
    "print(r)"
   ]
  },
  {
   "cell_type": "markdown",
   "metadata": {},
   "source": [
    "---"
   ]
  },
  {
   "cell_type": "markdown",
   "metadata": {},
   "source": [
    "## **Gauss-Seidel method**\n",
    "\n",
    "The Gauss-Seidel method is an iterative technique for solving systems of linear equations of the form $Ax = b$.\n",
    "\n",
    "**How It Works**\n",
    "\n",
    "The method improves upon Jacobi by immediately using updated values as they are calculated. It decomposes matrix $A$ into diagonal ($D$), strictly lower triangular ($L$) and strictly upper triangular ($U$) components, then iteratively computes:\n",
    "\n",
    "$$x^{(k+1)} = (D+L)^{-1}(b - Ux^{(k)})$$\n",
    "\n",
    "**Example**\n",
    "\n",
    "In the next cell, we solve the same 5×5 linear system using the Gauss-Seidel method:\n",
    "- Matrix $A$ is our 5×5 coefficient matrix\n",
    "- Vector $b$ is the right-hand side\n",
    "- Initial guess $x_0 = [1, 2, 3, 4, 5]$\n",
    "- Relaxation parameter is set to 1.6\n",
    "\n",
    "The solution converges to the values shown in the output.\n"
   ]
  },
  {
   "cell_type": "code",
   "execution_count": 4,
   "metadata": {},
   "outputs": [
    {
     "name": "stdout",
     "output_type": "stream",
     "text": [
      "[[ 1.0962]\n",
      " [ 0.2886]\n",
      " [-0.0866]\n",
      " [-0.1828]\n",
      " [ 0.2893]]\n"
     ]
    }
   ],
   "source": [
    "from functions.linear import gseid\n",
    "\n",
    "A = np.array([\n",
    "     [3, -1, 0, 0, 0],\n",
    "     [-1, 5, 4, 0, 0],\n",
    "     [0, 4, 6, -2, 0],\n",
    "     [0, 0, -2, 8, 1],\n",
    "     [0, 0, 0, 1, 11],\n",
    "])\n",
    "\n",
    "b = [3,0,1,-1,3]\n",
    "\n",
    "x0 = np.array([i for i in range(1,6)])\n",
    "r,_,_ = gseid(A, b, x0)\n",
    "\n",
    "print(r)"
   ]
  },
  {
   "cell_type": "markdown",
   "metadata": {},
   "source": [
    "---"
   ]
  },
  {
   "cell_type": "markdown",
   "metadata": {},
   "source": [
    "## **Successive Over-Relaxation (SOR) method**\n",
    "\n",
    "The Successive Over-Relaxation (SOR) method is an iterative technique for solving systems of linear equations of the form $Ax = b$.\n",
    "\n",
    "**How It Works**\n",
    "\n",
    "The SOR method is a modification of the Gauss-Seidel method that introduces a relaxation parameter $\\omega$ to accelerate convergence. It decomposes matrix $A$ into diagonal ($D$), strictly lower triangular ($L$), and strictly upper triangular ($U$) components, then iteratively computes:\n",
    "\n",
    "$$x^{(k+1)} = (1-\\omega)x^{(k)} + \\omega(D+\\omega L)^{-1}(b - Ux^{(k)} - (1-\\omega)Dx^{(k)})$$\n",
    "\n",
    "When $\\omega = 1$, SOR reduces to the Gauss-Seidel method.\n",
    "\n",
    "**Example**\n",
    "\n",
    "In the next cell, we solve the same 5×5 linear system using the SOR method:\n",
    "- Matrix $A$ is our 5×5 coefficient matrix \n",
    "- Vector $b$ is the right-hand side\n",
    "- Initial guess $x_0 = [1, 2, 3, 4, 5]$\n",
    "- Relaxation parameter $\\omega = 1.2$\n",
    "\n",
    "The solution converges to the values shown in the output."
   ]
  },
  {
   "cell_type": "code",
   "execution_count": 88,
   "metadata": {},
   "outputs": [
    {
     "name": "stdout",
     "output_type": "stream",
     "text": [
      "[[ 1.0962]\n",
      " [ 0.2886]\n",
      " [-0.0866]\n",
      " [-0.1828]\n",
      " [ 0.2893]]\n"
     ]
    }
   ],
   "source": [
    "from functions.linear import sor\n",
    "\n",
    "A = np.array([\n",
    "     [3, -1, 0, 0, 0],\n",
    "     [-1, 5, 4, 0, 0],\n",
    "     [0, 4, 6, -2, 0],\n",
    "     [0, 0, -2, 8, 1],\n",
    "     [0, 0, 0, 1, 11],\n",
    "])\n",
    "\n",
    "b = np.array([3,0,1,-1,3]).reshape(-1,1)\n",
    "\n",
    "x0 = np.zeros(5)\n",
    "r,_,_ = sor(A, b, x0, omega=1.29)\n",
    "\n",
    "print(r)\n"
   ]
  }
 ],
 "metadata": {
  "kernelspec": {
   "display_name": ".env",
   "language": "python",
   "name": "python3"
  },
  "language_info": {
   "codemirror_mode": {
    "name": "ipython",
    "version": 3
   },
   "file_extension": ".py",
   "mimetype": "text/x-python",
   "name": "python",
   "nbconvert_exporter": "python",
   "pygments_lexer": "ipython3",
   "version": "3.12.3"
  }
 },
 "nbformat": 4,
 "nbformat_minor": 2
}
